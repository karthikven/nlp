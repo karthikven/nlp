{
 "cells": [
  {
   "cell_type": "code",
   "execution_count": 4,
   "metadata": {},
   "outputs": [],
   "source": [
    "def convert_dna_string_to_map(input_string):\n",
    "    dictionary = {}\n",
    "    key = \"ABCDEFGHIJKLMNOPQRSTUVWXYZ\"\n",
    "    for i in range (0,26):\n",
    "        dictionary[key[i]] = input_string[i]\n",
    "    print(dictionary)"
   ]
  },
  {
   "cell_type": "code",
   "execution_count": 5,
   "metadata": {},
   "outputs": [
    {
     "name": "stdout",
     "output_type": "stream",
     "text": [
      "{'A': 'Q', 'B': 'W', 'C': 'E', 'D': 'R', 'E': 'T', 'F': 'Y', 'G': 'U', 'H': 'I', 'I': 'O', 'J': 'P', 'K': 'L', 'L': 'K', 'M': 'J', 'N': 'H', 'O': 'G', 'P': 'F', 'Q': 'D', 'R': 'S', 'S': 'A', 'T': 'M', 'U': 'N', 'V': 'B', 'W': 'V', 'X': 'C', 'Y': 'Z', 'Z': 'X'}\n"
     ]
    }
   ],
   "source": [
    "encryptKey = \"QWERTYUIOPLKJHGFDSAMNBVCZX\"\n",
    "convert_dna_string_to_map(encryptKey)\n"
   ]
  },
  {
   "cell_type": "code",
   "execution_count": 8,
   "metadata": {},
   "outputs": [],
   "source": [
    "### decrypting ciphers with genetic algorithms\n",
    "\n",
    "# load libraries\n",
    "import numpy as np\n",
    "import matplotlib.pyplot as plt\n",
    "\n",
    "import re\n",
    "import random\n",
    "import string\n",
    "import requests\n",
    "import os\n",
    "import textwrap"
   ]
  },
  {
   "cell_type": "code",
   "execution_count": 60,
   "metadata": {},
   "outputs": [],
   "source": [
    "# create a substitution cipher\n",
    "\n",
    "# one acts as a key, other as value\n",
    "\n",
    "letters1 = list(string.ascii_lowercase)\n",
    "letters2 = list(string.ascii_lowercase)\n",
    "\n",
    "true_mapping = {}\n",
    "random.shuffle(letters2)\n",
    "\n",
    "for k,v in zip(letters1, letters2):\n",
    "    true_mapping[k] = v"
   ]
  },
  {
   "cell_type": "code",
   "execution_count": 9,
   "metadata": {},
   "outputs": [],
   "source": [
    "### the language model\n",
    "\n",
    "# Create a markov matrix to represent bigram probabilities, there are 26 * 26 possible bigram combinations\n",
    "M = np.ones((26,26)) # defined as 1s because of add-one smoothing\n",
    "\n",
    "# Initial state distribution for each unigram, represents the first letter\n",
    "pi = np.zeros(26)\n",
    "\n",
    "# define a function to update the markov matrix\n",
    "def update_transition(ch1, ch2):\n",
    "    i = ord(ch1)-97\n",
    "    j = ord(ch2)-97\n",
    "    M[i,j]+=1\n",
    "\n",
    "# define a function to update initial state distribution\n",
    "def update_pi(ch1):\n",
    "    i = ord(ch1)-97\n",
    "    pi[i]+=1\n",
    "\n",
    "# compute the log probability of a word\n",
    "def get_word_prob(word):\n",
    "    i = ord(word[0])-97\n",
    "    # compute log of count of i\n",
    "    logp = np.log(pi[i])\n",
    "    # now compute log prob of bigram combinations for the rest of the word\n",
    "    for ch in word[1:]:\n",
    "        j = ord(ch) - 97\n",
    "        logp += np.log(M[i,j])\n",
    "        i = j\n",
    "    return logp\n",
    "\n",
    "# get the probability of a sequence of words\n",
    "def get_seq_prob(words):\n",
    "    # if input is a string, split it into tokens\n",
    "    if type(words) == str:\n",
    "        words = words.split()\n",
    "    # now compute probability by summing up probability of each word\n",
    "    logp = 0\n",
    "    for word in words:\n",
    "        logp += get_word_prob(word)\n",
    "    return logp"
   ]
  },
  {
   "cell_type": "code",
   "execution_count": 11,
   "metadata": {},
   "outputs": [],
   "source": [
    "# download file to train\n",
    "if not os.path.exists('moby_dick.txt'):\n",
    "    r = requests.get('https://lazyprogrammer.me/course_files/moby_dick.txt')\n",
    "    with open('moby_dick.txt', 'w') as f:\n",
    "        f.write(r.content.decode())"
   ]
  },
  {
   "cell_type": "code",
   "execution_count": 30,
   "metadata": {},
   "outputs": [],
   "source": [
    "# replace non-alpha characters\n",
    "regex = re.compile(\"[^a-zA-Z]\")\n",
    "\n",
    "# read the file, strip whitespace, tokenize and update pi and M\n",
    "\n",
    "for line in open('moby_dick.txt'):\n",
    "    line = line.rstrip()\n",
    "    \n",
    "    if line:\n",
    "        line = regex.sub(' ', line)\n",
    "        tokens = line.lower().split()\n",
    "        \n",
    "        for token in tokens:\n",
    "            ch0 = token[0]\n",
    "            update_pi(ch0)\n",
    "            \n",
    "            for ch1 in token[1:]:\n",
    "                update_transition(ch0,ch1)\n",
    "                ch0 = ch1\n",
    "                \n",
    "# normalize probabilities\n",
    "pi /= pi.sum()\n",
    "M /= M.sum(axis=1, keepdims=True)"
   ]
  },
  {
   "cell_type": "code",
   "execution_count": 61,
   "metadata": {},
   "outputs": [],
   "source": [
    "### message to be encoded\n",
    "\n",
    "# this is a random excerpt from Project Gutenberg's\n",
    "# The Adventures of Sherlock Holmes, by Arthur Conan Doyle\n",
    "# https://www.gutenberg.org/ebooks/1661\n",
    "\n",
    "#original_message = '''I then lounged down the street and found,\n",
    "#as I expected, that there was a mews in a lane which runs down\n",
    "#by one wall of the garden. I lent the ostlers a hand in rubbing\n",
    "#down their horses, and received in exchange twopence, a glass of\n",
    "#half-and-half, two fills of shag tobacco, and as much information\n",
    "#as I could desire about Miss Adler, to say nothing of half a dozen\n",
    "#other people in the neighbourhood in whom I was not in the least\n",
    "#interested, but whose biographies I was compelled to listen to.\n",
    "#'''\n",
    "original_message = '''Away they went, and I was just wondering whether I should not do well to follow them when up the lane came a neat little landau, the coachman with his coat only half-buttoned, and his tie under his ear, while all the tags of his harness were sticking out of the buckles. It hadn't pulled up before she shot out of the hall door and into it. I only caught a glimpse of her at the moment, but she was a lovely woman, with a face that a man might die for.'''\n",
    "\n",
    "# My cabby drove fast. I don't think I ever drove faster, but the others\n",
    "# were there before us. The cab and the landau with their steaming horses\n",
    "# were in front of the door when I arrived. I paid the man and hurried\n",
    "# into the church. There was not a soul there save the two whom I had\n",
    "# followed and a surpliced clergyman, who seemed to be expostulating with\n",
    "# them. They were all three standing in a knot in front of the altar. I\n",
    "# lounged up the side aisle like any other idler who has dropped into a\n",
    "# church. Suddenly, to my surprise, the three at the altar faced round to\n",
    "# me, and Godfrey Norton came running as hard as he could towards me."
   ]
  },
  {
   "cell_type": "code",
   "execution_count": 36,
   "metadata": {},
   "outputs": [],
   "source": [
    "# write a function to encode and decode text\n",
    "def encode_message(message):\n",
    "    message = message.lower()\n",
    "    regex = re.compile('[^a-zA-Z]')\n",
    "    message = regex.sub(' ',message)\n",
    "    \n",
    "    coded_message = []\n",
    "    \n",
    "    for ch in message:\n",
    "        coded_ch = ch\n",
    "        if ch in true_mapping:\n",
    "            coded_ch = true_mapping[ch]\n",
    "        coded_message.append(coded_ch)\n",
    "    return ''.join(coded_message)\n",
    "\n",
    "encoded_message = encode_message(original_message)\n",
    "\n",
    "# write a function to decode a message\n",
    "def decode_message(message, word_map):\n",
    "    decoded_message = []\n",
    "    for ch in message:\n",
    "        decoded_ch = ch\n",
    "        if ch in word_map:\n",
    "            decoded_ch = word_map[ch]\n",
    "        decoded_message.append(decoded_ch)\n",
    "    return ''.join(decoded_message)"
   ]
  },
  {
   "cell_type": "code",
   "execution_count": 43,
   "metadata": {},
   "outputs": [],
   "source": [
    "# define an evolutionary algorithm to decrypt the message\n",
    "\n",
    "# define a dna pool that has twenty randomly generated strings\n",
    "dna_pool = []\n",
    "for i in range(20):\n",
    "    dna = list(string.ascii_lowercase)\n",
    "    random.shuffle(dna)\n",
    "    dna_pool.append(dna)\n",
    "\n",
    "# define a function to evolve children\n",
    "def evolve_offspring(dna_pool, n_children):\n",
    "    off_spring = []\n",
    "    for dna in dna_pool:\n",
    "        for n in range (n_children):\n",
    "            copy = dna.copy()\n",
    "            i = np.random.randint(len(copy))\n",
    "            j = np.random.randint(len(copy))\n",
    "            \n",
    "            # swap\n",
    "            temp = copy[i]\n",
    "            copy[i] = copy[j]\n",
    "            copy[j] = temp\n",
    "            \n",
    "            off_spring.append(copy)\n",
    "            \n",
    "    return off_spring + dna_pool            "
   ]
  },
  {
   "cell_type": "code",
   "execution_count": 62,
   "metadata": {},
   "outputs": [
    {
     "name": "stdout",
     "output_type": "stream",
     "text": [
      "iter: 0 score: -938.6429617065296 best so far: -938.6429617065296\n",
      "iter: 200 score: -1241.0824253579256 best so far: -938.6429617065296\n",
      "iter: 400 score: -1251.1923754042812 best so far: -938.6429617065296\n",
      "iter: 600 score: -1353.6542694286024 best so far: -938.6429617065296\n",
      "iter: 800 score: -1306.7251350283743 best so far: -938.6429617065296\n",
      "iter: 1000 score: -1307.7606415545604 best so far: -938.6429617065296\n"
     ]
    }
   ],
   "source": [
    "# genetic algorithm\n",
    "num_iters = 1200\n",
    "scores = np.zeros(num_iters)\n",
    "best_dna = None\n",
    "best_map = None\n",
    "best_score = float('-inf')\n",
    "\n",
    "for i in range(num_iters):\n",
    "    if i>0:\n",
    "        dna_pool = evolve_offspring(dna_pool, 3)\n",
    "        \n",
    "        # calculate score for each dna\n",
    "    dna2score = {}\n",
    "        \n",
    "    for dna in dna_pool:\n",
    "        current_map = {}\n",
    "        for k,v in zip(letters1, dna):\n",
    "            current_map[k] = v\n",
    "                \n",
    "        decoded_message = decode_message(encoded_message, current_map)\n",
    "        score = get_seq_prob(decoded_message)\n",
    "            \n",
    "        dna2score[''.join(dna)] = score\n",
    "            \n",
    "        if score > best_score:\n",
    "            best_dna = dna\n",
    "            best_map = current_map\n",
    "            best_score = score\n",
    "            \n",
    "    # average score for this generation        \n",
    "    scores[i] = np.mean(list(dna2score.values()))\n",
    "    \n",
    "    # keep best 5 dna\n",
    "    # turn them back into list of single chars\n",
    "    \n",
    "    sorted_dna = sorted(dna2score.items(), key=lambda x: x[1], reverse=True)\n",
    "    dna_pool = [list(k) for k, v in sorted_dna[:5]]\n",
    "    \n",
    "    if i % 200 == 0:\n",
    "        print(\"iter:\", i, \"score:\", scores[i], \"best so far:\", best_score)"
   ]
  },
  {
   "cell_type": "code",
   "execution_count": 56,
   "metadata": {
    "scrolled": false
   },
   "outputs": [
    {
     "name": "stdout",
     "output_type": "stream",
     "text": [
      "LL of decoded message is:  -938.6429617065296\n",
      "LL of true message: -932.9507586952323\n",
      "true: b, pred: m\n",
      "true: j, pred: q\n",
      "true: k, pred: z\n",
      "true: m, pred: b\n",
      "true: p, pred: y\n",
      "true: q, pred: j\n",
      "true: y, pred: p\n",
      "true: z, pred: k\n"
     ]
    }
   ],
   "source": [
    "# evaluate our algorithm\n",
    "\n",
    "decoded_message = decode_message(encoded_message, best_map)\n",
    "print(\"LL of decoded message is: \", get_seq_prob(decoded_message))\n",
    "print(\"LL of true message:\", get_seq_prob(regex.sub(' ', original_message.lower())))\n",
    "\n",
    "\n",
    "# which letters are wrong?\n",
    "for true, v in true_mapping.items():\n",
    "  pred = best_map[v]\n",
    "  if true != pred:\n",
    "    print(\"true: %s, pred: %s\" % (true, pred))"
   ]
  },
  {
   "cell_type": "code",
   "execution_count": 57,
   "metadata": {
    "scrolled": true
   },
   "outputs": [
    {
     "name": "stdout",
     "output_type": "stream",
     "text": [
      "Decoded message:\n",
      " i then lounged down the street and found  as i exyected  that there\n",
      "was a bews in a lane which runs down mp one wall of the garden  i lent\n",
      "the ostlers a hand in rumming down their horses  and received in\n",
      "exchange twoyence  a glass of half and half  two fills of shag tomacco\n",
      "and as buch inforbation as i could desire amout biss adler  to sap\n",
      "nothing of half a doken other yeoyle in the neighmourhood in whob i\n",
      "was not in the least interested  mut whose miograyhies i was cobyelled\n",
      "to listen to\n",
      "\n",
      "True message:\n",
      " I then lounged down the street and found,\n",
      "as I expected, that there was a mews in a lane which runs down\n",
      "by one wall of the garden. I lent the ostlers a hand in rubbing\n",
      "down their horses, and received in exchange twopence, a glass of\n",
      "half-and-half, two fills of shag tobacco, and as much information\n",
      "as I could desire about Miss Adler, to say nothing of half a dozen\n",
      "other people in the neighbourhood in whom I was not in the least\n",
      "interested, but whose biographies I was compelled to listen to.\n",
      "\n"
     ]
    }
   ],
   "source": [
    "# print the final decoded message\n",
    "print(\"Decoded message:\\n\", textwrap.fill(decoded_message))\n",
    "\n",
    "print(\"\\nTrue message:\\n\", original_message)"
   ]
  },
  {
   "cell_type": "code",
   "execution_count": 58,
   "metadata": {},
   "outputs": [
    {
     "data": {
      "image/png": "[encoded data removed]",
      "text/plain": [
       "<Figure size 432x288 with 1 Axes>"
      ]
     },
     "metadata": {
      "needs_background": "light"
     },
     "output_type": "display_data"
    }
   ],
   "source": [
    "plt.plot(scores)\n",
    "plt.show()"
   ]
  },
  {
   "cell_type": "code",
   "execution_count": null,
   "metadata": {},
   "outputs": [],
   "source": []
  },
  {
   "cell_type": "code",
   "execution_count": null,
   "metadata": {},
   "outputs": [],
   "source": []
  },
  {
   "cell_type": "code",
   "execution_count": null,
   "metadata": {},
   "outputs": [],
   "source": []
  },
  {
   "cell_type": "code",
   "execution_count": null,
   "metadata": {},
   "outputs": [],
   "source": []
  },
  {
   "cell_type": "code",
   "execution_count": null,
   "metadata": {},
   "outputs": [],
   "source": []
  }
 ],
 "metadata": {
  "kernelspec": {
   "display_name": "Python 3",
   "language": "python",
   "name": "python3"
  },
  "language_info": {
   "codemirror_mode": {
    "name": "ipython",
    "version": 3
   },
   "file_extension": ".py",
   "mimetype": "text/x-python",
   "name": "python",
   "nbconvert_exporter": "python",
   "pygments_lexer": "ipython3",
   "version": "3.7.4"
  }
 },
 "nbformat": 4,
 "nbformat_minor": 2
}
